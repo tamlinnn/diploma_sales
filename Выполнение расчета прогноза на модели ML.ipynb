{
 "cells": [
  {
   "cell_type": "code",
   "execution_count": 43,
   "id": "0e0adc8d",
   "metadata": {},
   "outputs": [],
   "source": [
    "import numpy as np\n",
    "import pandas as pd\n",
    "import matplotlib.pyplot as plt\n",
    "import seaborn as sns\n",
    "import math\n",
    "import datetime\n",
    "\n",
    "from sklearn import datasets\n",
    "from sklearn.datasets import make_blobs\n",
    "from sklearn.datasets import fetch_california_housing\n",
    "\n",
    "from sklearn.model_selection import train_test_split\n",
    "from sklearn.preprocessing import StandardScaler\n",
    "\n",
    "from sklearn.metrics import r2_score\n",
    "from sklearn.metrics import mean_squared_error"
   ]
  },
  {
   "cell_type": "markdown",
   "id": "dd3291e1",
   "metadata": {},
   "source": [
    "**Загрузим модель машинного обучения для прогноза объема продаж.**"
   ]
  },
  {
   "cell_type": "code",
   "execution_count": 44,
   "id": "3118e281",
   "metadata": {},
   "outputs": [],
   "source": [
    "from joblib import load\n",
    "regr = load('diploma_model.joblib')"
   ]
  },
  {
   "cell_type": "markdown",
   "id": "4c50d540",
   "metadata": {},
   "source": [
    "**Загрузим признаки для проведения обучения и вычисления прогноза.**"
   ]
  },
  {
   "cell_type": "code",
   "execution_count": 45,
   "id": "2621082a",
   "metadata": {},
   "outputs": [],
   "source": [
    "train=pd.read_csv('C:/Program Files/PostgreSQL/15/data/supermarket_sales.csv', delimiter=',')\n",
    "df=pd.DataFrame(train)"
   ]
  },
  {
   "cell_type": "markdown",
   "id": "bf0a3e04",
   "metadata": {},
   "source": [
    "**Приведем признаки к формату, требуемому для проведения обучения на данной модели.**"
   ]
  },
  {
   "cell_type": "code",
   "execution_count": 46,
   "id": "489c3802",
   "metadata": {},
   "outputs": [],
   "source": [
    "df['month'] = pd.DatetimeIndex(df['Date']).month\n",
    "df['weekday'] = pd.DatetimeIndex(df['Date']).weekday"
   ]
  },
  {
   "cell_type": "code",
   "execution_count": 47,
   "id": "4320a34a",
   "metadata": {},
   "outputs": [],
   "source": [
    "df=df.drop(['Invoice ID', 'Date','Time', 'Rating','Branch', 'Tax 5%', 'Total', 'cogs','gross income', 'gross margin percentage'], axis=1)"
   ]
  },
  {
   "cell_type": "code",
   "execution_count": 48,
   "id": "da57bd2b",
   "metadata": {},
   "outputs": [],
   "source": [
    "y=df['Quantity']\n",
    "X=df.drop('Quantity',axis=1)\n",
    "Xpr=X"
   ]
  },
  {
   "cell_type": "code",
   "execution_count": null,
   "id": "3d2876a6",
   "metadata": {},
   "outputs": [],
   "source": [
    "X=pd.get_dummies(X)"
   ]
  },
  {
   "cell_type": "markdown",
   "id": "1ff9113b",
   "metadata": {},
   "source": [
    "**Проведем обучение.**"
   ]
  },
  {
   "cell_type": "code",
   "execution_count": 50,
   "id": "0480cedc",
   "metadata": {},
   "outputs": [],
   "source": [
    "Xpr['Quantity_Predict'] = regr.predict(X)"
   ]
  },
  {
   "cell_type": "code",
   "execution_count": 51,
   "id": "42eb4f41",
   "metadata": {},
   "outputs": [
    {
     "data": {
      "text/html": [
       "<div>\n",
       "<style scoped>\n",
       "    .dataframe tbody tr th:only-of-type {\n",
       "        vertical-align: middle;\n",
       "    }\n",
       "\n",
       "    .dataframe tbody tr th {\n",
       "        vertical-align: top;\n",
       "    }\n",
       "\n",
       "    .dataframe thead th {\n",
       "        text-align: right;\n",
       "    }\n",
       "</style>\n",
       "<table border=\"1\" class=\"dataframe\">\n",
       "  <thead>\n",
       "    <tr style=\"text-align: right;\">\n",
       "      <th></th>\n",
       "      <th>City</th>\n",
       "      <th>Customer type</th>\n",
       "      <th>Gender</th>\n",
       "      <th>Product line</th>\n",
       "      <th>Unit price</th>\n",
       "      <th>Payment</th>\n",
       "      <th>month</th>\n",
       "      <th>weekday</th>\n",
       "      <th>Quantity_Predict</th>\n",
       "    </tr>\n",
       "  </thead>\n",
       "  <tbody>\n",
       "    <tr>\n",
       "      <th>0</th>\n",
       "      <td>Yangon</td>\n",
       "      <td>Member</td>\n",
       "      <td>Female</td>\n",
       "      <td>Health and beauty</td>\n",
       "      <td>74.69</td>\n",
       "      <td>Ewallet</td>\n",
       "      <td>1</td>\n",
       "      <td>5</td>\n",
       "      <td>5.637807</td>\n",
       "    </tr>\n",
       "    <tr>\n",
       "      <th>1</th>\n",
       "      <td>Naypyitaw</td>\n",
       "      <td>Normal</td>\n",
       "      <td>Female</td>\n",
       "      <td>Electronic accessories</td>\n",
       "      <td>15.28</td>\n",
       "      <td>Cash</td>\n",
       "      <td>3</td>\n",
       "      <td>4</td>\n",
       "      <td>5.483051</td>\n",
       "    </tr>\n",
       "    <tr>\n",
       "      <th>2</th>\n",
       "      <td>Yangon</td>\n",
       "      <td>Normal</td>\n",
       "      <td>Male</td>\n",
       "      <td>Home and lifestyle</td>\n",
       "      <td>46.33</td>\n",
       "      <td>Credit card</td>\n",
       "      <td>3</td>\n",
       "      <td>6</td>\n",
       "      <td>5.530327</td>\n",
       "    </tr>\n",
       "    <tr>\n",
       "      <th>3</th>\n",
       "      <td>Yangon</td>\n",
       "      <td>Member</td>\n",
       "      <td>Male</td>\n",
       "      <td>Health and beauty</td>\n",
       "      <td>58.22</td>\n",
       "      <td>Ewallet</td>\n",
       "      <td>1</td>\n",
       "      <td>6</td>\n",
       "      <td>5.621387</td>\n",
       "    </tr>\n",
       "    <tr>\n",
       "      <th>4</th>\n",
       "      <td>Yangon</td>\n",
       "      <td>Normal</td>\n",
       "      <td>Male</td>\n",
       "      <td>Sports and travel</td>\n",
       "      <td>86.31</td>\n",
       "      <td>Ewallet</td>\n",
       "      <td>2</td>\n",
       "      <td>4</td>\n",
       "      <td>5.379656</td>\n",
       "    </tr>\n",
       "  </tbody>\n",
       "</table>\n",
       "</div>"
      ],
      "text/plain": [
       "        City Customer type  Gender            Product line  Unit price  \\\n",
       "0     Yangon        Member  Female       Health and beauty       74.69   \n",
       "1  Naypyitaw        Normal  Female  Electronic accessories       15.28   \n",
       "2     Yangon        Normal    Male      Home and lifestyle       46.33   \n",
       "3     Yangon        Member    Male       Health and beauty       58.22   \n",
       "4     Yangon        Normal    Male       Sports and travel       86.31   \n",
       "\n",
       "       Payment  month  weekday  Quantity_Predict  \n",
       "0      Ewallet      1        5          5.637807  \n",
       "1         Cash      3        4          5.483051  \n",
       "2  Credit card      3        6          5.530327  \n",
       "3      Ewallet      1        6          5.621387  \n",
       "4      Ewallet      2        4          5.379656  "
      ]
     },
     "execution_count": 51,
     "metadata": {},
     "output_type": "execute_result"
    }
   ],
   "source": [
    "Xpr.head()"
   ]
  },
  {
   "cell_type": "markdown",
   "id": "8df1b9f5",
   "metadata": {},
   "source": [
    "**Сохраним полученные значения прогнозных показателей для последующей загрузки в аналитику.**"
   ]
  },
  {
   "cell_type": "code",
   "execution_count": 52,
   "id": "46b18def",
   "metadata": {},
   "outputs": [],
   "source": [
    "Xpr.to_csv('C:/Program Files/PostgreSQL/15/data/Quantity_Predict.csv', index=False)"
   ]
  }
 ],
 "metadata": {
  "kernelspec": {
   "display_name": "Python 3 (ipykernel)",
   "language": "python",
   "name": "python3"
  },
  "language_info": {
   "codemirror_mode": {
    "name": "ipython",
    "version": 3
   },
   "file_extension": ".py",
   "mimetype": "text/x-python",
   "name": "python",
   "nbconvert_exporter": "python",
   "pygments_lexer": "ipython3",
   "version": "3.9.12"
  }
 },
 "nbformat": 4,
 "nbformat_minor": 5
}
